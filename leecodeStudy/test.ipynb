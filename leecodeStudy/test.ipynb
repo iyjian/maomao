{
 "cells": [
  {
   "cell_type": "code",
   "execution_count": 23,
   "metadata": {},
   "outputs": [],
   "source": [
    "def checkPerfectNumber_V1(num : int) -> bool:\n",
    "    if num == 1:\n",
    "        return False\n",
    "    upper_bound = num\n",
    "        # cursor = 1\n",
    "    # blacklist = []\n",
    "    factor_sum = 1\n",
    "    factor = 2\n",
    "    while factor < upper_bound:\n",
    "        if num % factor == 0:\n",
    "            factor_sum += factor\n",
    "            another_factor = num / factor\n",
    "            if another_factor != factor:\n",
    "                factor_sum += another_factor\n",
    "                upper_bound = another_factor\n",
    "            else:\n",
    "                break\n",
    "        factor += 1        \n",
    "    return num == factor_sum"
   ]
  },
  {
   "cell_type": "code",
   "execution_count": 27,
   "metadata": {},
   "outputs": [
    {
     "name": "stdout",
     "output_type": "stream",
     "text": [
      "1.23 ms ± 10.5 μs per loop (mean ± std. dev. of 7 runs, 1,000 loops each)\n"
     ]
    }
   ],
   "source": [
    "%%timeit\n",
    "checkPerfectNumber_V1(33550336)"
   ]
  },
  {
   "cell_type": "code",
   "execution_count": 26,
   "metadata": {},
   "outputs": [
    {
     "data": {
      "text/plain": [
       "5.591722666666667"
      ]
     },
     "execution_count": 26,
     "metadata": {},
     "output_type": "execute_result"
    }
   ],
   "source": [
    "((600 * 33550336) / 1000000) / 3600"
   ]
  }
 ],
 "metadata": {
  "kernelspec": {
   "display_name": "base",
   "language": "python",
   "name": "python3"
  },
  "language_info": {
   "codemirror_mode": {
    "name": "ipython",
    "version": 3
   },
   "file_extension": ".py",
   "mimetype": "text/x-python",
   "name": "python",
   "nbconvert_exporter": "python",
   "pygments_lexer": "ipython3",
   "version": "3.10.11"
  }
 },
 "nbformat": 4,
 "nbformat_minor": 2
}
