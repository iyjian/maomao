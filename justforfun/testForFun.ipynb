{
 "cells": [
  {
   "cell_type": "code",
   "execution_count": 4,
   "metadata": {},
   "outputs": [],
   "source": [
    "from maze import mazelib"
   ]
  },
  {
   "cell_type": "code",
   "execution_count": 2,
   "metadata": {},
   "outputs": [],
   "source": [
    "\n",
    "# start_point = [0, 0]\n",
    "# end_point = [4, 5]\n",
    "\n"
   ]
  },
  {
   "cell_type": "code",
   "execution_count": 13,
   "metadata": {},
   "outputs": [],
   "source": [
    "def escape_the_maze(maze, start_point, end_point):\n",
    "    path = []\n",
    "    current_point = start_point\n",
    "    while current_point != end_point:\n",
    "\n",
    "        tried_directions = 0\n",
    "        for direction in range(1, 5):\n",
    "            next_point = mazelib.go_direction(current_point, direction)\n",
    "            if next_point != [-1, -1] and not mazelib.is_tried(current_point, direction) and next_point not in path:\n",
    "                # print('next_point', next_point, direction)\n",
    "                mazelib.mark_as_tried(current_point, direction)\n",
    "                current_point = next_point\n",
    "                path.append(next_point)\n",
    "                break\n",
    "            tried_directions += 1\n",
    "        \n",
    "        if tried_directions == 4:\n",
    "            # if we tried all directions, but no valid direction\n",
    "            path.pop()\n",
    "            current_point = path[len(path) -1]\n",
    "    "
   ]
  },
  {
   "cell_type": "code",
   "execution_count": 3,
   "metadata": {},
   "outputs": [
    {
     "name": "stdout",
     "output_type": "stream",
     "text": [
      "\u0004\u0001\u0018\u0001\n"
     ]
    }
   ],
   "source": [
    "print('\u0004\u0001\b\u0001\b\u0001\u0018\u0001')"
   ]
  }
 ],
 "metadata": {
  "kernelspec": {
   "display_name": "Python 3",
   "language": "python",
   "name": "python3"
  },
  "language_info": {
   "codemirror_mode": {
    "name": "ipython",
    "version": 3
   },
   "file_extension": ".py",
   "mimetype": "text/x-python",
   "name": "python",
   "nbconvert_exporter": "python",
   "pygments_lexer": "ipython3",
   "version": "3.9.9"
  }
 },
 "nbformat": 4,
 "nbformat_minor": 2
}
