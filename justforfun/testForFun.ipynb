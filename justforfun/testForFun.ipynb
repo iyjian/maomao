{
 "cells": [
  {
   "cell_type": "code",
   "execution_count": 22,
   "metadata": {},
   "outputs": [],
   "source": [
    "from maze import mazelib\n",
    "from typing import List\n",
    "import random\n",
    "import math"
   ]
  },
  {
   "cell_type": "code",
   "execution_count": 23,
   "metadata": {},
   "outputs": [],
   "source": [
    "def creat_maze(width_lenth : list[int]):\n",
    "    arbitrary = 0\n",
    "    left_right = 1\n",
    "    top_right = 2\n",
    "    left_bottom = 3\n",
    "    top_bottom = 4\n",
    "    left_top = 5\n",
    "    right_left = 6\n",
    "    falty_maze = 7\n",
    "    enter_end_place = random.randint(1, 5)\n",
    "    # 1 means enter_place is on the left, end_place is on the right;\n",
    "    # 2 means enter_place is on the top, end_place is on the right;\n",
    "    # 3 means enter_place is on the left, end_place is on the bottom;\n",
    "    # 4 means enter_place is on the top, end_place is on the left...... \n",
    "    # 0 means arbitrary, but it won't be wrong\n",
    "    # 7 means falty maze, it's used to check your code\n",
    "    if enter_end_place == \n",
    "    \n"
   ]
  },
  {
   "cell_type": "code",
   "execution_count": 25,
   "metadata": {},
   "outputs": [
    {
     "name": "stdout",
     "output_type": "stream",
     "text": [
      "\n",
      "\n",
      "\n",
      "\n",
      "\n",
      "\n"
     ]
    }
   ],
   "source": []
  }
 ],
 "metadata": {
  "kernelspec": {
   "display_name": "Python 3",
   "language": "python",
   "name": "python3"
  },
  "language_info": {
   "codemirror_mode": {
    "name": "ipython",
    "version": 3
   },
   "file_extension": ".py",
   "mimetype": "text/x-python",
   "name": "python",
   "nbconvert_exporter": "python",
   "pygments_lexer": "ipython3",
   "version": "3.9.9"
  }
 },
 "nbformat": 4,
 "nbformat_minor": 2
}
