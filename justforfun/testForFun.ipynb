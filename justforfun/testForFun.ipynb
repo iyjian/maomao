{
 "cells": [
  {
   "cell_type": "code",
   "execution_count": 64,
   "metadata": {},
   "outputs": [],
   "source": [
    "def isInLine(x1):\n",
    "    return ((.5 - x1) ** 2) * 2<= .5 ** 2"
   ]
  },
  {
   "cell_type": "code",
   "execution_count": 70,
   "metadata": {},
   "outputs": [],
   "source": [
    "def sqrt2_computing_stable_version(Precision : int):\n",
    "    counter = 0\n",
    "    totalRolls = 0\n",
    "    inLineTimes = 0\n",
    "\n",
    "    while counter < Precision:\n",
    "        x = counter / Precision\n",
    "        if isInLine(x) == True:\n",
    "            inLineTimes += 1\n",
    "        totalRolls += 1\n",
    "        counter += 1\n",
    "    return totalRolls / inLineTimes\n",
    "            \n"
   ]
  },
  {
   "cell_type": "code",
   "execution_count": 78,
   "metadata": {},
   "outputs": [
    {
     "name": "stdout",
     "output_type": "stream",
     "text": [
      "1.4142131247463254\n"
     ]
    }
   ],
   "source": [
    "print(sqrt2_computing_stable_version(10000000))"
   ]
  }
 ],
 "metadata": {
  "kernelspec": {
   "display_name": "Python 3",
   "language": "python",
   "name": "python3"
  },
  "language_info": {
   "codemirror_mode": {
    "name": "ipython",
    "version": 3
   },
   "file_extension": ".py",
   "mimetype": "text/x-python",
   "name": "python",
   "nbconvert_exporter": "python",
   "pygments_lexer": "ipython3",
   "version": "3.9.9"
  }
 },
 "nbformat": 4,
 "nbformat_minor": 2
}
