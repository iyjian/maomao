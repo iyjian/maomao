{
 "cells": [
  {
   "cell_type": "code",
   "execution_count": 2,
   "metadata": {},
   "outputs": [],
   "source": [
    "import matplotlib.pyplot as plt\n",
    "import math\n",
    "\n",
    "def my_range(start, end, step):\n",
    "  if ((start - end) * step) >= 0:\n",
    "    print('error : your start end or step is not right') \n",
    "    raise ValueError\n",
    "\n",
    "  result = []\n",
    "  current = start\n",
    "\n",
    "  while current < end:\n",
    "    result.append(current)\n",
    "    current += step\n",
    "  return result\n",
    "\n",
    "\n",
    "def plot(f, rangex, rangey, step = 0.01):\n",
    "  xpoints = []\n",
    "  ypoints = []\n",
    "\n",
    "  for x in my_range(rangex, rangey, step):\n",
    "    xpoints.append(x)\n",
    "    ypoints.append(f(x))\n",
    "\n",
    "  plt.plot(xpoints, ypoints)  \n",
    "  plt.show()\n"
   ]
  },
  {
   "cell_type": "code",
   "execution_count": null,
   "metadata": {},
   "outputs": [],
   "source": []
  },
  {
   "cell_type": "code",
   "execution_count": 4,
   "metadata": {},
   "outputs": [],
   "source": [
    "def f2(x):\n",
    "  return abs(2 * x - 1) + abs(1 - x)"
   ]
  },
  {
   "cell_type": "code",
   "execution_count": null,
   "metadata": {},
   "outputs": [],
   "source": []
  },
  {
   "cell_type": "code",
   "execution_count": null,
   "metadata": {},
   "outputs": [],
   "source": []
  }
 ],
 "metadata": {
  "kernelspec": {
   "display_name": "Python 3",
   "language": "python",
   "name": "python3"
  },
  "language_info": {
   "codemirror_mode": {
    "name": "ipython",
    "version": 3
   },
   "file_extension": ".py",
   "mimetype": "text/x-python",
   "name": "python",
   "nbconvert_exporter": "python",
   "pygments_lexer": "ipython3",
   "version": "3.9.9"
  }
 },
 "nbformat": 4,
 "nbformat_minor": 2
}
