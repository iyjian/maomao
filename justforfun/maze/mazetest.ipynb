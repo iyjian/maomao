{
 "cells": [
  {
   "cell_type": "code",
   "execution_count": 24,
   "metadata": {},
   "outputs": [],
   "source": [
    "import mazelib\n"
   ]
  },
  {
   "cell_type": "markdown",
   "metadata": {},
   "source": [
    "this is the maze:\n",
    "----------------\n",
    "111111\n",
    "100101\n",
    "100001\n",
    "101101\n",
    "001100\n",
    "111111\n",
    "----------------"
   ]
  },
  {
   "cell_type": "code",
   "execution_count": 55,
   "metadata": {},
   "outputs": [],
   "source": [
    "\n",
    "def is_end_point(current_point, start_point):\n",
    "    if current_point == start_point:\n",
    "        return False\n",
    "    elif (0 in current_point):\n",
    "        return True\n",
    "    elif ((mazelib.maze_height - 1) == current_point[0]) or ((mazelib.maze_width - 1) == current_point[1]):\n",
    "        return True\n",
    "    return False"
   ]
  },
  {
   "cell_type": "code",
   "execution_count": 57,
   "metadata": {},
   "outputs": [],
   "source": [
    "def is_end_point(current_point, start_point):\n",
    "    if current_point == start_point:\n",
    "        return False\n",
    "    return (0 in current_point) or ((mazelib.maze_height - 1) == current_point[0]) or ((mazelib.maze_width - 1) == current_point[1])\\"
   ]
  },
  {
   "cell_type": "code",
   "execution_count": 58,
   "metadata": {},
   "outputs": [
    {
     "name": "stdout",
     "output_type": "stream",
     "text": [
      "False\n",
      "False\n",
      "False\n",
      "False\n",
      "True\n"
     ]
    }
   ],
   "source": [
    "for i in [[4, 0], [4, 1], [4, 2], [4, 3], [4, 5]]:\n",
    "    print(is_end_point(i, [4, 0]))"
   ]
  },
  {
   "cell_type": "code",
   "execution_count": 52,
   "metadata": {},
   "outputs": [
    {
     "name": "stdout",
     "output_type": "stream",
     "text": [
      "[4, 0]\n",
      "[4, 1]\n",
      "[4, 2]\n",
      "[4, 3]\n",
      "[4, 5]\n"
     ]
    }
   ],
   "source": [
    "for i in [[4, 0], [4, 1], [4, 2], [4, 3], [4, 5]]:\n",
    "    print(i)"
   ]
  },
  {
   "cell_type": "code",
   "execution_count": null,
   "metadata": {},
   "outputs": [],
   "source": []
  }
 ],
 "metadata": {
  "kernelspec": {
   "display_name": "Python 3",
   "language": "python",
   "name": "python3"
  },
  "language_info": {
   "codemirror_mode": {
    "name": "ipython",
    "version": 3
   },
   "file_extension": ".py",
   "mimetype": "text/x-python",
   "name": "python",
   "nbconvert_exporter": "python",
   "pygments_lexer": "ipython3",
   "version": "3.9.9"
  }
 },
 "nbformat": 4,
 "nbformat_minor": 2
}
